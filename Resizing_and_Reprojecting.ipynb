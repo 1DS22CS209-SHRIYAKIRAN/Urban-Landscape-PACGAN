{
 "cells": [
  {
   "cell_type": "code",
   "execution_count": 5,
   "id": "a552bfc1-6f42-4b23-a90c-1427c6c8d663",
   "metadata": {},
   "outputs": [
    {
     "name": "stdout",
     "output_type": "stream",
     "text": [
      "Mixed data preparation complete.\n"
     ]
    }
   ],
   "source": [
    "import os\n",
    "import shutil\n",
    "import csv\n",
    "from PIL import Image\n",
    "\n",
    "# Directories containing the original images\n",
    "misty_dir = r'C:\\Users\\Bhuhpramaan\\Supriya\\Data\\Misty'\n",
    "clear_dir = r'C:\\Users\\Bhuhpramaan\\Supriya\\Data\\CLear'\n",
    "\n",
    "# Directory to store mixed images\n",
    "mixed_dir = 'data/mixed_images'\n",
    "os.makedirs(mixed_dir, exist_ok=True)\n",
    "\n",
    "# CSV file to store image IDs and classes\n",
    "csv_file = 'data/mixed_labels.csv'\n",
    "\n",
    "# Desired image size for preprocessing\n",
    "image_size = (256, 256)\n",
    "\n",
    "# Function to preprocess and copy images to the mixed directory and create the CSV file\n",
    "def prepare_mixed_data(misty_dir, clear_dir, mixed_dir, csv_file, image_size):\n",
    "    image_id = 0\n",
    "    with open(csv_file, 'w', newline='') as csvfile:\n",
    "        writer = csv.writer(csvfile)\n",
    "        writer.writerow(['ID', 'Class'])\n",
    "        \n",
    "        for img_name in os.listdir(clear_dir):\n",
    "            src_path = os.path.join(clear_dir, img_name)\n",
    "            dst_path = os.path.join(mixed_dir, f\"{image_id}.png\")\n",
    "            preprocess_and_copy_image(src_path, dst_path, image_size)\n",
    "            writer.writerow([image_id, 0])\n",
    "            image_id += 1\n",
    "        \n",
    "        for img_name in os.listdir(misty_dir):\n",
    "            src_path = os.path.join(misty_dir, img_name)\n",
    "            dst_path = os.path.join(mixed_dir, f\"{image_id}.png\")\n",
    "            preprocess_and_copy_image(src_path, dst_path, image_size)\n",
    "            writer.writerow([image_id, 1])\n",
    "            image_id += 1\n",
    "\n",
    "# Function to preprocess (resize) and copy an image\n",
    "def preprocess_and_copy_image(src_path, dst_path, image_size):\n",
    "    with Image.open(src_path) as img:\n",
    "        img = img.resize(image_size, Image.LANCZOS)\n",
    "        img.save(dst_path)\n",
    "\n",
    "# Run the function\n",
    "prepare_mixed_data(misty_dir, clear_dir, mixed_dir, csv_file, image_size)\n",
    "\n",
    "print(\"Mixed data preparation complete.\")\n"
   ]
  }
 ],
 "metadata": {
  "kernelspec": {
   "display_name": "Python 3 (ipykernel)",
   "language": "python",
   "name": "python3"
  },
  "language_info": {
   "codemirror_mode": {
    "name": "ipython",
    "version": 3
   },
   "file_extension": ".py",
   "mimetype": "text/x-python",
   "name": "python",
   "nbconvert_exporter": "python",
   "pygments_lexer": "ipython3",
   "version": "3.12.3"
  }
 },
 "nbformat": 4,
 "nbformat_minor": 5
}
